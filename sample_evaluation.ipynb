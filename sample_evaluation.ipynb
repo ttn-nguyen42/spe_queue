{
  "nbformat": 4,
  "nbformat_minor": 0,
  "metadata": {
    "colab": {
      "provenance": []
    },
    "kernelspec": {
      "name": "python3",
      "display_name": "Python 3"
    },
    "language_info": {
      "name": "python"
    }
  },
  "cells": [
    {
      "cell_type": "code",
      "execution_count": null,
      "metadata": {
        "id": "LQfrM-CxSvha",
        "outputId": "b68b48d8-dca9-4fc0-aade-fee806f313fa",
        "colab": {
          "base_uri": "https://localhost:8080/"
        }
      },
      "outputs": [
        {
          "output_type": "stream",
          "name": "stdout",
          "text": [
            "Enter the value of number of job n when to calculate event: 2\n",
            "Enter the value of of server: 2\n",
            "Enter the value of service_rate: 10\n",
            "Enter the value of initial arrival rate queue 0 λ0: 10\n",
            "Arrival rate at Queue 1: 6.71428571428571 product/s\n",
            "Arrival rate at Queue 2: 5.71428571428571 product/s\n",
            "Arrival rate at Queue 3: 5.02857142857143 product/s\n",
            "Arrival rate at Queue 4: 6.71428571428571 product/s\n",
            "Arrival rate at Queue 5: 5.71428571428571 product/s\n",
            "Utilization rate Queue 1: 0.335714285714286\n",
            "Utilization rate Queue 2: 0.285714285714286\n",
            "Utilization rate Queue 3: 0.251428571428571\n",
            "Utilization rate Queue 4: 0.335714285714286\n",
            "Utilization rate Queue 5: 0.285714285714286\n",
            "Utilization rate Queue 0: 0.5\n",
            "Average number of customers in the system: 3.14663055076746\n",
            "Average response time: 0.314663055076746\n",
            "Probability P(n0, n1, n2, n3, n4, n5): 1.1273e-7\n"
          ]
        }
      ],
      "source": [
        "\n",
        "import sympy as sp\n",
        "\n",
        "# Define symbols\n",
        "n, c, service_rate, λ0, λ1, λ2, λ3, λ4, λ5 = sp.symbols('n c service_rate λ0 λ1 λ2 λ3 λ4 λ5')\n",
        "\n",
        "# Input values\n",
        "n = int(input(\"Enter the value of number of job n when to calculate event: \"))\n",
        "c = int(input(\"Enter the value of of server: \"))\n",
        "service_rate = int(input(\"Enter the value of service_rate: \"))\n",
        "λ0 = int(input(\"Enter the value of initial arrival rate queue 0 λ0: \"))\n",
        "arrival_rate_0 = λ0\n",
        "# Define equations\n",
        "eq1 = sp.Eq(λ1, 0.5 * λ0 + 0.3 * λ5)\n",
        "eq2 = sp.Eq(λ2, 0.4 * λ0 + 0.3 * λ5)\n",
        "eq3 = sp.Eq(λ3, 0.1 * λ0 + 0.6 * λ4)\n",
        "eq4 = sp.Eq(λ4, λ1)\n",
        "eq5 = sp.Eq(λ5, λ2)\n",
        "\n",
        "# Solve the equations\n",
        "solutions = sp.solve((eq1, eq2, eq3, eq4, eq5), (λ1, λ2, λ3, λ4, λ5))\n",
        "\n",
        "# Arrival rates\n",
        "arrival_rate_1 = solutions[λ1].evalf(subs={λ0: λ0})\n",
        "arrival_rate_2 = solutions[λ2].evalf(subs={λ0: λ0})\n",
        "arrival_rate_3 = solutions[λ3].evalf(subs={λ0: λ0})\n",
        "arrival_rate_4 = solutions[λ4].evalf(subs={λ0: λ0})\n",
        "arrival_rate_5 = solutions[λ5].evalf(subs={λ0: λ0})\n",
        "\n",
        "# Rest of the code remains unchanged...\n",
        "\n",
        "# Utilization rates\n",
        "utilization_0 = λ0 / (c * service_rate)\n",
        "utilization_1 = arrival_rate_1 / (c * service_rate)  # Assuming service rate (µ) is 2\n",
        "utilization_2 = arrival_rate_2 / (c * service_rate)\n",
        "utilization_3 = arrival_rate_3 / (c * service_rate)\n",
        "utilization_4 = arrival_rate_4 / (c * service_rate)\n",
        "utilization_5 = arrival_rate_5 / (c * service_rate)\n",
        "\n",
        "# Average number of customers in the system\n",
        "L0 = utilization_0 / (1 - utilization_0)  # Initial queue\n",
        "L1 = L4 = utilization_1 / (1 - utilization_1)\n",
        "L2 = L5 = utilization_2 / (1 - utilization_2)\n",
        "L3 = utilization_3 / (1 - utilization_3)\n",
        "\n",
        "total_customers = L0 + L1 + L2 + L3 + L4 + L5\n",
        "\n",
        "# Average response time\n",
        "average_response_time = total_customers / (arrival_rate_0)\n",
        "# Probability P(n0, n1, n2, n3, n4, n5)\n",
        "probability = ((1 - utilization_1) * (1 - utilization_4) * (1 - utilization_2) * (1 - utilization_5) * (1 - utilization_3) * (1 - utilization_0) *\n",
        "              utilization_1**n * utilization_4**n * utilization_2**n * utilization_5**n * utilization_3**n * utilization_0**n)\n",
        "\n",
        "# Rest of the code remains unchanged...\n",
        "\n",
        "# Evaluate probability\n",
        "probability_float = probability.evalf()\n",
        "\n",
        "# Print the results\n",
        "print(f\"Arrival rate at Queue 1: {arrival_rate_1} product/s\")\n",
        "print(f\"Arrival rate at Queue 2: {arrival_rate_2} product/s\")\n",
        "print(f\"Arrival rate at Queue 3: {arrival_rate_3} product/s\")\n",
        "print(f\"Arrival rate at Queue 4: {arrival_rate_4} product/s\")\n",
        "print(f\"Arrival rate at Queue 5: {arrival_rate_5} product/s\")\n",
        "print(f\"Utilization rate Queue 1: {utilization_1}\")\n",
        "print(f\"Utilization rate Queue 2: {utilization_2}\")\n",
        "print(f\"Utilization rate Queue 3: {utilization_3}\")\n",
        "print(f\"Utilization rate Queue 4: {utilization_4}\")\n",
        "print(f\"Utilization rate Queue 5: {utilization_5}\")\n",
        "print(f\"Utilization rate Queue 0: {utilization_0}\")\n",
        "print(f\"Average number of customers in the system: {total_customers}\")\n",
        "print(f\"Average response time: {average_response_time}\")\n",
        "print(f\"Probability P(n0, n1, n2, n3, n4, n5): {probability_float:.4e}\")\n",
        "\n"
      ]
    },
    {
      "cell_type": "code",
      "source": [],
      "metadata": {
        "id": "UsPk-MJISz9i"
      },
      "execution_count": null,
      "outputs": []
    }
  ]
}